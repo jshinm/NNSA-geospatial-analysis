{
 "cells": [
  {
   "cell_type": "markdown",
   "metadata": {},
   "source": [
    "## NNSA Geospatial Predictive Analysis + Exploratory Data Analysis\n",
    "This jupyter notebook provides exploratory data analysis followed by geospatial quantitative analysis of the Fukushima datasets created by NNSA."
   ]
  },
  {
   "cell_type": "markdown",
   "metadata": {},
   "source": [
    "### Introduction\n",
    "This is a continuation of the previous visual qualtative analysis of the NNSA Fukukshima at-sea aerial data. Here, I take the analysis further into quantitative realm which begins by general exploratory data analysis. The cleaned and prepared data is subsequently used to evaluate feature importance and predictive analytics of radioactive trace with respect to time elapsed since the date of the incident.\n",
    "\n",
    "#### Data Catalogs\n",
    "- https://catalog.data.gov/dataset/us-doe-nnsa-response-to-2011-fukushima-incident-at-sea-aerial-data\n",
    "\n",
    "#### Documentations\n",
    "- https://www.energy.gov/sites/prod/files/2013/10/f3/AMS%20C12%20Sea%20Data%20Dictionary.pdf"
   ]
  },
  {
   "cell_type": "markdown",
   "metadata": {},
   "source": [
    "### Analytical discussion\n",
    "During EDA, two of the features were modified for better representation. The Times column was converted into integer form of seconds where it represents time difference since the date of the Fukushima incident on March 11, 2011. The `dist` feature was then created by computing euclidean distance from the coordinate of the power plant. These features were then later fed into random forest regressor, which improved ~10% performance in R-square score metric.\n",
    "\n",
    "The feature importance was estimated using correlation matrix where `LiveuSec` feature was strongly and inversely correlated with `GCNORM`. This fact was utilized to train base linear regression model and only the `Times` and `LiveuSec` features were fed into the model, which achieved ~90% performance. \n",
    "\n",
    "The visual inspection of the twin plot between `dist` and `GCNORM` presented clear distinction between higher `GCNORM` level in land side and relatively lower `GCNORM` level in the ocean. Taking this account, different machine learning models were trained and optimized using exhaustive grid search where linear regression model performed best.\n",
    "\n",
    "Further feature engineering was experimented by feature selection and column-wise normalization. While linear regression model did not improve any further with use of other features outside of `LiveuSec`, random forest model significantly improved its performance when more features were added. Further improvement was made after column-wise normalization was done. This optimized model performed almost as well as the linear regression model. Subsequently, the gradient boosting model was manually optimized and trained as the best performing model, which outperformed both linear regressor and random forest. The visual inspection of last 300 samples of this time-series data shows good extrapolation at the end of the dataset."
   ]
  },
  {
   "cell_type": "markdown",
   "metadata": {},
   "source": [
    "### Import packages"
   ]
  },
  {
   "cell_type": "code",
   "execution_count": 1,
   "metadata": {},
   "outputs": [
    {
     "name": "stdout",
     "output_type": "stream",
     "text": [
      "Python 3.8.13\n"
     ]
    }
   ],
   "source": [
    "!python -V"
   ]
  },
  {
   "cell_type": "code",
   "execution_count": 2,
   "metadata": {},
   "outputs": [],
   "source": [
    "from nnsa.dataLoader import dataLoader\n",
    "from nnsa.visualization import render_map"
   ]
  },
  {
   "cell_type": "markdown",
   "metadata": {},
   "source": [
    "#### Load datasets from dataLoader class\n",
    "dataLoader class loads files directly from http request, stores and unzip kmz file locally, and parse kml into geopandas dataframe"
   ]
  },
  {
   "cell_type": "code",
   "execution_count": 3,
   "metadata": {},
   "outputs": [],
   "source": [
    "# instantiation of the NNSA dataLoader class\n",
    "dl = dataLoader()"
   ]
  },
  {
   "cell_type": "code",
   "execution_count": 4,
   "metadata": {},
   "outputs": [
    {
     "name": "stdout",
     "output_type": "stream",
     "text": [
      "Preprocessing skipped for [fuku-iodine]\n",
      "Preprocessing skipped for [fuku-nnsa-response]\n"
     ]
    }
   ],
   "source": [
    "# invoking `load_data` method (only loading the at-sea dataset)\n",
    "dl.load_data(preprocess=True, only_load=[0])"
   ]
  },
  {
   "cell_type": "code",
   "execution_count": 5,
   "metadata": {},
   "outputs": [
    {
     "data": {
      "text/plain": [
       "dict_keys(['fuku-at-sea'])"
      ]
     },
     "execution_count": 5,
     "metadata": {},
     "output_type": "execute_result"
    }
   ],
   "source": [
    "# 3 datasets are loaded\n",
    "dl.data.keys()"
   ]
  },
  {
   "cell_type": "markdown",
   "metadata": {},
   "source": [
    "### Exploratory Data Analysis of the Fukushima at-sea aerial dataset\n",
    "The data is parsed from unconventional form of unstructured KMZ data into a geopanda dataframe. The data is analyzed and inspected for statistical analysis and for machine learning based predictive analytics"
   ]
  },
  {
   "cell_type": "code",
   "execution_count": 6,
   "metadata": {},
   "outputs": [
    {
     "data": {
      "text/html": [
       "<div>\n",
       "<style scoped>\n",
       "    .dataframe tbody tr th:only-of-type {\n",
       "        vertical-align: middle;\n",
       "    }\n",
       "\n",
       "    .dataframe tbody tr th {\n",
       "        vertical-align: top;\n",
       "    }\n",
       "\n",
       "    .dataframe thead th {\n",
       "        text-align: right;\n",
       "    }\n",
       "</style>\n",
       "<table border=\"1\" class=\"dataframe\">\n",
       "  <thead>\n",
       "    <tr style=\"text-align: right;\">\n",
       "      <th></th>\n",
       "      <th>Time</th>\n",
       "      <th>Latitude</th>\n",
       "      <th>Longitude</th>\n",
       "      <th>ALT_HAE</th>\n",
       "      <th>AGL</th>\n",
       "      <th>LiveuSec</th>\n",
       "      <th>GC</th>\n",
       "      <th>GCNORM</th>\n",
       "    </tr>\n",
       "  </thead>\n",
       "  <tbody>\n",
       "    <tr>\n",
       "      <th>0</th>\n",
       "      <td>2011-04-05 02:11:00</td>\n",
       "      <td>37.762307</td>\n",
       "      <td>140.959459</td>\n",
       "      <td>243.557</td>\n",
       "      <td>163.28</td>\n",
       "      <td>997353.0</td>\n",
       "      <td>20364.0</td>\n",
       "      <td>20418.05</td>\n",
       "    </tr>\n",
       "    <tr>\n",
       "      <th>1</th>\n",
       "      <td>2011-04-05 02:11:00</td>\n",
       "      <td>37.761519</td>\n",
       "      <td>140.959672</td>\n",
       "      <td>244.135</td>\n",
       "      <td>151.00</td>\n",
       "      <td>997066.0</td>\n",
       "      <td>21513.0</td>\n",
       "      <td>21576.30</td>\n",
       "    </tr>\n",
       "    <tr>\n",
       "      <th>2</th>\n",
       "      <td>2011-04-05 02:11:00</td>\n",
       "      <td>37.760735</td>\n",
       "      <td>140.959890</td>\n",
       "      <td>243.184</td>\n",
       "      <td>149.50</td>\n",
       "      <td>997057.0</td>\n",
       "      <td>21180.0</td>\n",
       "      <td>21242.52</td>\n",
       "    </tr>\n",
       "    <tr>\n",
       "      <th>3</th>\n",
       "      <td>2011-04-05 02:11:00</td>\n",
       "      <td>37.759945</td>\n",
       "      <td>140.960111</td>\n",
       "      <td>242.065</td>\n",
       "      <td>161.04</td>\n",
       "      <td>997843.0</td>\n",
       "      <td>19272.0</td>\n",
       "      <td>19313.66</td>\n",
       "    </tr>\n",
       "    <tr>\n",
       "      <th>4</th>\n",
       "      <td>2011-04-05 02:11:00</td>\n",
       "      <td>37.759161</td>\n",
       "      <td>140.960330</td>\n",
       "      <td>242.198</td>\n",
       "      <td>171.78</td>\n",
       "      <td>997653.0</td>\n",
       "      <td>16321.0</td>\n",
       "      <td>16359.40</td>\n",
       "    </tr>\n",
       "    <tr>\n",
       "      <th>...</th>\n",
       "      <td>...</td>\n",
       "      <td>...</td>\n",
       "      <td>...</td>\n",
       "      <td>...</td>\n",
       "      <td>...</td>\n",
       "      <td>...</td>\n",
       "      <td>...</td>\n",
       "      <td>...</td>\n",
       "    </tr>\n",
       "    <tr>\n",
       "      <th>4524</th>\n",
       "      <td>2011-04-05 03:28:00</td>\n",
       "      <td>37.452455</td>\n",
       "      <td>141.083456</td>\n",
       "      <td>272.289</td>\n",
       "      <td>232.04</td>\n",
       "      <td>999534.0</td>\n",
       "      <td>3284.0</td>\n",
       "      <td>3285.53</td>\n",
       "    </tr>\n",
       "    <tr>\n",
       "      <th>4525</th>\n",
       "      <td>2011-04-05 03:28:00</td>\n",
       "      <td>37.451668</td>\n",
       "      <td>141.083711</td>\n",
       "      <td>281.316</td>\n",
       "      <td>241.08</td>\n",
       "      <td>999484.0</td>\n",
       "      <td>3222.0</td>\n",
       "      <td>3223.66</td>\n",
       "    </tr>\n",
       "    <tr>\n",
       "      <th>4526</th>\n",
       "      <td>2011-04-05 03:28:00</td>\n",
       "      <td>37.450898</td>\n",
       "      <td>141.084009</td>\n",
       "      <td>290.964</td>\n",
       "      <td>250.73</td>\n",
       "      <td>999583.0</td>\n",
       "      <td>3120.0</td>\n",
       "      <td>3121.30</td>\n",
       "    </tr>\n",
       "    <tr>\n",
       "      <th>4527</th>\n",
       "      <td>2011-04-05 03:28:00</td>\n",
       "      <td>37.450898</td>\n",
       "      <td>141.084009</td>\n",
       "      <td>290.964</td>\n",
       "      <td>250.73</td>\n",
       "      <td>999536.0</td>\n",
       "      <td>3151.0</td>\n",
       "      <td>3152.46</td>\n",
       "    </tr>\n",
       "    <tr>\n",
       "      <th>4528</th>\n",
       "      <td>2011-04-05 03:28:00</td>\n",
       "      <td>37.447342</td>\n",
       "      <td>141.086178</td>\n",
       "      <td>346.577</td>\n",
       "      <td>306.38</td>\n",
       "      <td>999620.0</td>\n",
       "      <td>2934.0</td>\n",
       "      <td>2935.12</td>\n",
       "    </tr>\n",
       "  </tbody>\n",
       "</table>\n",
       "<p>4529 rows × 8 columns</p>\n",
       "</div>"
      ],
      "text/plain": [
       "                    Time   Latitude   Longitude  ALT_HAE     AGL  LiveuSec  \\\n",
       "0    2011-04-05 02:11:00  37.762307  140.959459  243.557  163.28  997353.0   \n",
       "1    2011-04-05 02:11:00  37.761519  140.959672  244.135  151.00  997066.0   \n",
       "2    2011-04-05 02:11:00  37.760735  140.959890  243.184  149.50  997057.0   \n",
       "3    2011-04-05 02:11:00  37.759945  140.960111  242.065  161.04  997843.0   \n",
       "4    2011-04-05 02:11:00  37.759161  140.960330  242.198  171.78  997653.0   \n",
       "...                  ...        ...         ...      ...     ...       ...   \n",
       "4524 2011-04-05 03:28:00  37.452455  141.083456  272.289  232.04  999534.0   \n",
       "4525 2011-04-05 03:28:00  37.451668  141.083711  281.316  241.08  999484.0   \n",
       "4526 2011-04-05 03:28:00  37.450898  141.084009  290.964  250.73  999583.0   \n",
       "4527 2011-04-05 03:28:00  37.450898  141.084009  290.964  250.73  999536.0   \n",
       "4528 2011-04-05 03:28:00  37.447342  141.086178  346.577  306.38  999620.0   \n",
       "\n",
       "           GC    GCNORM  \n",
       "0     20364.0  20418.05  \n",
       "1     21513.0  21576.30  \n",
       "2     21180.0  21242.52  \n",
       "3     19272.0  19313.66  \n",
       "4     16321.0  16359.40  \n",
       "...       ...       ...  \n",
       "4524   3284.0   3285.53  \n",
       "4525   3222.0   3223.66  \n",
       "4526   3120.0   3121.30  \n",
       "4527   3151.0   3152.46  \n",
       "4528   2934.0   2935.12  \n",
       "\n",
       "[4529 rows x 8 columns]"
      ]
     },
     "execution_count": 6,
     "metadata": {},
     "output_type": "execute_result"
    }
   ],
   "source": [
    "dl.data['fuku-at-sea']"
   ]
  },
  {
   "cell_type": "code",
   "execution_count": 7,
   "metadata": {},
   "outputs": [
    {
     "name": "stdout",
     "output_type": "stream",
     "text": [
      "<class 'pandas.core.frame.DataFrame'>\n",
      "RangeIndex: 4529 entries, 0 to 4528\n",
      "Data columns (total 8 columns):\n",
      " #   Column     Non-Null Count  Dtype         \n",
      "---  ------     --------------  -----         \n",
      " 0   Time       4529 non-null   datetime64[ns]\n",
      " 1   Latitude   4529 non-null   float64       \n",
      " 2   Longitude  4529 non-null   float64       \n",
      " 3   ALT_HAE    4529 non-null   float64       \n",
      " 4   AGL        4529 non-null   float64       \n",
      " 5   LiveuSec   4529 non-null   float64       \n",
      " 6   GC         4529 non-null   float64       \n",
      " 7   GCNORM     4529 non-null   float64       \n",
      "dtypes: datetime64[ns](1), float64(7)\n",
      "memory usage: 283.2 KB\n"
     ]
    }
   ],
   "source": [
    "# NNSA dataLoader class calls preprocessor method to change data types of each column\n",
    "dl.data['fuku-at-sea'].info()"
   ]
  },
  {
   "cell_type": "markdown",
   "metadata": {},
   "source": [
    "#### Datetime conversion for regression\n",
    "Datetime dtype is not a numeric object, thus the column needs to be either integer or float. Here I am using delta time from the date of incident as a temporal representation"
   ]
  },
  {
   "cell_type": "code",
   "execution_count": 8,
   "metadata": {},
   "outputs": [],
   "source": [
    "from datetime import datetime"
   ]
  },
  {
   "cell_type": "code",
   "execution_count": 9,
   "metadata": {},
   "outputs": [],
   "source": [
    "# The incident occurred on March 11, 2011\n",
    "dl.data['fuku-at-sea']['Time'] = dl.data['fuku-at-sea'].apply(lambda x: (x['Time'] - datetime(2011, 3, 11)).seconds, axis=1)\n",
    "dl.data['fuku-at-sea']['Time'] = dl.data['fuku-at-sea']['Time'].astype(int) #the dtype is appropriately changed to the integer"
   ]
  },
  {
   "cell_type": "code",
   "execution_count": 10,
   "metadata": {},
   "outputs": [
    {
     "name": "stdout",
     "output_type": "stream",
     "text": [
      "<class 'pandas.core.frame.DataFrame'>\n",
      "RangeIndex: 4529 entries, 0 to 4528\n",
      "Data columns (total 8 columns):\n",
      " #   Column     Non-Null Count  Dtype  \n",
      "---  ------     --------------  -----  \n",
      " 0   Time       4529 non-null   int32  \n",
      " 1   Latitude   4529 non-null   float64\n",
      " 2   Longitude  4529 non-null   float64\n",
      " 3   ALT_HAE    4529 non-null   float64\n",
      " 4   AGL        4529 non-null   float64\n",
      " 5   LiveuSec   4529 non-null   float64\n",
      " 6   GC         4529 non-null   float64\n",
      " 7   GCNORM     4529 non-null   float64\n",
      "dtypes: float64(7), int32(1)\n",
      "memory usage: 265.5 KB\n"
     ]
    }
   ],
   "source": [
    "dl.data['fuku-at-sea'].info()"
   ]
  },
  {
   "cell_type": "code",
   "execution_count": 11,
   "metadata": {},
   "outputs": [
    {
     "data": {
      "text/plain": [
       "array([ 7860,  7920,  7980,  8040,  8100,  8160,  8220,  8280,  8340,\n",
       "        8400,  8460,  8520,  8580,  8640,  8700,  8760,  8820,  8880,\n",
       "        8940,  9000,  9060,  9120,  9180,  9240,  9300,  9360,  9420,\n",
       "        9480,  9540,  9600,  9660,  9720,  9780,  9840,  9900,  9960,\n",
       "       10020, 10080, 10140, 10200, 10260, 10320, 10380, 10440, 10500,\n",
       "       10560, 10620, 10680, 10740, 10800, 10860, 10920, 10980, 11040,\n",
       "       11100, 11160, 11220, 11280, 11340, 11400, 11460, 11520, 11580,\n",
       "       11640, 11700, 11760, 11820, 11880, 11940, 12000, 12060, 12120,\n",
       "       12180, 12240, 12300, 12360, 12420, 12480])"
      ]
     },
     "execution_count": 11,
     "metadata": {},
     "output_type": "execute_result"
    }
   ],
   "source": [
    "# sanity check to make sure the conversion is done properly\n",
    "dl.data['fuku-at-sea'].Time.unique()"
   ]
  },
  {
   "cell_type": "markdown",
   "metadata": {},
   "source": [
    "#### Inspect correlation matrix of the features\n",
    "Notice here that `NumDet` is dropped from the dataframe as the variable contained insignificant values, namely the column had a single value"
   ]
  },
  {
   "cell_type": "code",
   "execution_count": 12,
   "metadata": {},
   "outputs": [
    {
     "data": {
      "text/html": [
       "<div>\n",
       "<style scoped>\n",
       "    .dataframe tbody tr th:only-of-type {\n",
       "        vertical-align: middle;\n",
       "    }\n",
       "\n",
       "    .dataframe tbody tr th {\n",
       "        vertical-align: top;\n",
       "    }\n",
       "\n",
       "    .dataframe thead th {\n",
       "        text-align: right;\n",
       "    }\n",
       "</style>\n",
       "<table border=\"1\" class=\"dataframe\">\n",
       "  <thead>\n",
       "    <tr style=\"text-align: right;\">\n",
       "      <th></th>\n",
       "      <th>Time</th>\n",
       "      <th>Latitude</th>\n",
       "      <th>Longitude</th>\n",
       "      <th>ALT_HAE</th>\n",
       "      <th>AGL</th>\n",
       "      <th>LiveuSec</th>\n",
       "      <th>GC</th>\n",
       "      <th>GCNORM</th>\n",
       "    </tr>\n",
       "  </thead>\n",
       "  <tbody>\n",
       "    <tr>\n",
       "      <th>Time</th>\n",
       "      <td>1.000000</td>\n",
       "      <td>-0.039164</td>\n",
       "      <td>0.339461</td>\n",
       "      <td>0.040908</td>\n",
       "      <td>0.188574</td>\n",
       "      <td>0.326914</td>\n",
       "      <td>-0.325904</td>\n",
       "      <td>-0.324702</td>\n",
       "    </tr>\n",
       "    <tr>\n",
       "      <th>Latitude</th>\n",
       "      <td>-0.039164</td>\n",
       "      <td>1.000000</td>\n",
       "      <td>-0.307889</td>\n",
       "      <td>-0.111831</td>\n",
       "      <td>-0.148930</td>\n",
       "      <td>0.229070</td>\n",
       "      <td>-0.229567</td>\n",
       "      <td>-0.228916</td>\n",
       "    </tr>\n",
       "    <tr>\n",
       "      <th>Longitude</th>\n",
       "      <td>0.339461</td>\n",
       "      <td>-0.307889</td>\n",
       "      <td>1.000000</td>\n",
       "      <td>-0.137870</td>\n",
       "      <td>0.048703</td>\n",
       "      <td>0.422847</td>\n",
       "      <td>-0.419876</td>\n",
       "      <td>-0.417847</td>\n",
       "    </tr>\n",
       "    <tr>\n",
       "      <th>ALT_HAE</th>\n",
       "      <td>0.040908</td>\n",
       "      <td>-0.111831</td>\n",
       "      <td>-0.137870</td>\n",
       "      <td>1.000000</td>\n",
       "      <td>0.931742</td>\n",
       "      <td>-0.227050</td>\n",
       "      <td>0.234697</td>\n",
       "      <td>0.234599</td>\n",
       "    </tr>\n",
       "    <tr>\n",
       "      <th>AGL</th>\n",
       "      <td>0.188574</td>\n",
       "      <td>-0.148930</td>\n",
       "      <td>0.048703</td>\n",
       "      <td>0.931742</td>\n",
       "      <td>1.000000</td>\n",
       "      <td>0.012495</td>\n",
       "      <td>-0.002808</td>\n",
       "      <td>-0.002276</td>\n",
       "    </tr>\n",
       "    <tr>\n",
       "      <th>LiveuSec</th>\n",
       "      <td>0.326914</td>\n",
       "      <td>0.229070</td>\n",
       "      <td>0.422847</td>\n",
       "      <td>-0.227050</td>\n",
       "      <td>0.012495</td>\n",
       "      <td>1.000000</td>\n",
       "      <td>-0.990164</td>\n",
       "      <td>-0.990040</td>\n",
       "    </tr>\n",
       "    <tr>\n",
       "      <th>GC</th>\n",
       "      <td>-0.325904</td>\n",
       "      <td>-0.229567</td>\n",
       "      <td>-0.419876</td>\n",
       "      <td>0.234697</td>\n",
       "      <td>-0.002808</td>\n",
       "      <td>-0.990164</td>\n",
       "      <td>1.000000</td>\n",
       "      <td>0.999983</td>\n",
       "    </tr>\n",
       "    <tr>\n",
       "      <th>GCNORM</th>\n",
       "      <td>-0.324702</td>\n",
       "      <td>-0.228916</td>\n",
       "      <td>-0.417847</td>\n",
       "      <td>0.234599</td>\n",
       "      <td>-0.002276</td>\n",
       "      <td>-0.990040</td>\n",
       "      <td>0.999983</td>\n",
       "      <td>1.000000</td>\n",
       "    </tr>\n",
       "  </tbody>\n",
       "</table>\n",
       "</div>"
      ],
      "text/plain": [
       "               Time  Latitude  Longitude   ALT_HAE       AGL  LiveuSec  \\\n",
       "Time       1.000000 -0.039164   0.339461  0.040908  0.188574  0.326914   \n",
       "Latitude  -0.039164  1.000000  -0.307889 -0.111831 -0.148930  0.229070   \n",
       "Longitude  0.339461 -0.307889   1.000000 -0.137870  0.048703  0.422847   \n",
       "ALT_HAE    0.040908 -0.111831  -0.137870  1.000000  0.931742 -0.227050   \n",
       "AGL        0.188574 -0.148930   0.048703  0.931742  1.000000  0.012495   \n",
       "LiveuSec   0.326914  0.229070   0.422847 -0.227050  0.012495  1.000000   \n",
       "GC        -0.325904 -0.229567  -0.419876  0.234697 -0.002808 -0.990164   \n",
       "GCNORM    -0.324702 -0.228916  -0.417847  0.234599 -0.002276 -0.990040   \n",
       "\n",
       "                 GC    GCNORM  \n",
       "Time      -0.325904 -0.324702  \n",
       "Latitude  -0.229567 -0.228916  \n",
       "Longitude -0.419876 -0.417847  \n",
       "ALT_HAE    0.234697  0.234599  \n",
       "AGL       -0.002808 -0.002276  \n",
       "LiveuSec  -0.990164 -0.990040  \n",
       "GC         1.000000  0.999983  \n",
       "GCNORM     0.999983  1.000000  "
      ]
     },
     "execution_count": 12,
     "metadata": {},
     "output_type": "execute_result"
    }
   ],
   "source": [
    "dl.data['fuku-at-sea'].corr()"
   ]
  },
  {
   "cell_type": "markdown",
   "metadata": {},
   "source": [
    "Here the visual inspection of the correlation matrix reveals meaningful information about correlation between features"
   ]
  },
  {
   "cell_type": "code",
   "execution_count": 13,
   "metadata": {},
   "outputs": [
    {
     "data": {
      "text/plain": [
       "<AxesSubplot:>"
      ]
     },
     "execution_count": 13,
     "metadata": {},
     "output_type": "execute_result"
    },
    {
     "data": {
      "image/png": "[encoded data removed]",
      "text/plain": [
       "<Figure size 432x288 with 2 Axes>"
      ]
     },
     "metadata": {
      "needs_background": "light"
     },
     "output_type": "display_data"
    }
   ],
   "source": [
    "import matplotlib.pyplot as plt\n",
    "import seaborn as sns\n",
    "\n",
    "sns.heatmap(dl.data['fuku-at-sea'].corr(), cmap='RdBu_r')"
   ]
  },
  {
   "cell_type": "markdown",
   "metadata": {},
   "source": [
    "We can deduce here that `AGL` is not correlated with most of the other features whereas `GC` practically follows the same trend as our y-label `GCNORM`, which makes sense as the y-label is the normalized form of the `GC`. Thus, for our machine learning model, these two variables will be removed. Another notable feature to recognize is `LiveuSec` which has a strong inverse coorelation with `GCNORM`."
   ]
  },
  {
   "cell_type": "markdown",
   "metadata": {},
   "source": [
    "#### Visualize the distance and y-label via feature engineering\n",
    "To quantitatively look at the trend between location and radiation, I created a new feature called `dist` which is simply the euclidean distance of the coordinate of each measurement from the power plant location."
   ]
  },
  {
   "cell_type": "code",
   "execution_count": 14,
   "metadata": {},
   "outputs": [],
   "source": [
    "from sklearn.metrics.pairwise import euclidean_distances\n",
    "\n",
    "ref_coordinate = (37.4218, 141.0337) #this is the coordinate of the power plant\n",
    "dl.data['fuku-at-sea']['dist'] = euclidean_distances(dl.data['fuku-at-sea'][['Latitude', 'Longitude']].to_numpy(), [ref_coordinate])"
   ]
  },
  {
   "cell_type": "code",
   "execution_count": 15,
   "metadata": {},
   "outputs": [
    {
     "data": {
      "image/png": "[encoded data removed]",
      "text/plain": [
       "<Figure size 1296x432 with 2 Axes>"
      ]
     },
     "metadata": {
      "needs_background": "light"
     },
     "output_type": "display_data"
    }
   ],
   "source": [
    "fig, ax = plt.subplots(figsize=(18,6))\n",
    "\n",
    "ax2 = ax.twinx()\n",
    "\n",
    "ax.plot(dl.data['fuku-at-sea']['Time'], dl.data['fuku-at-sea']['dist'])\n",
    "ax.fill_between(dl.data['fuku-at-sea']['Time'], dl.data['fuku-at-sea']['dist'], alpha=0.2)\n",
    "\n",
    "ax2.plot(dl.data['fuku-at-sea']['Time'], dl.data['fuku-at-sea']['GCNORM'], color='red')\n",
    "ax2.fill_between(dl.data['fuku-at-sea']['Time'], dl.data['fuku-at-sea']['GCNORM'], alpha=0.6, color='red')\n",
    "\n",
    "ax.set_ylabel('Distance from the source', fontsize=20, color='blue')\n",
    "ax.set_xlabel('Time (total seconds elapsed since the incident)', fontsize=20)\n",
    "ax.set_title('NNSA Fukushima Radiation over Distance Plot', fontsize=20)\n",
    "ax.set_xlim(dl.data['fuku-at-sea']['Time'].min(), dl.data['fuku-at-sea']['Time'].max())\n",
    "\n",
    "ax2.set_ylabel('GCNORM', rotation=270, fontsize=20, color='red')\n",
    "ax2.yaxis.set_label_coords(1.07,0.5);\n",
    "\n",
    "fig.autofmt_xdate(rotation=45)"
   ]
  },
  {
   "cell_type": "markdown",
   "metadata": {},
   "source": [
    "Notice that the radiation was captured at sea soon after aircraft sweeped the power plant where the radiation is the highest in the plot."
   ]
  },
  {
   "cell_type": "markdown",
   "metadata": {},
   "source": [
    "## Predictive analytics using machine learning method\n",
    "Here I am extrapolative predictive analysis of the last N number of samples using feature engineering and optimized machine learning algorithms. Mainly, I am testing and optimizing generalized linear regressor, tree-based ensemble model, gradient boosting model, neural network via exhaustive grid searching. The performance of each regressor is measured using R-squared metric."
   ]
  },
  {
   "cell_type": "code",
   "execution_count": 16,
   "metadata": {},
   "outputs": [
    {
     "name": "stderr",
     "output_type": "stream",
     "text": [
      "c:\\ProgramData\\Anaconda3\\envs\\main\\lib\\site-packages\\xgboost\\compat.py:36: FutureWarning:\n",
      "\n",
      "pandas.Int64Index is deprecated and will be removed from pandas in a future version. Use pandas.Index with the appropriate dtype instead.\n",
      "\n"
     ]
    }
   ],
   "source": [
    "from sklearn.ensemble import RandomForestRegressor\n",
    "from sklearn.neural_network import MLPRegressor\n",
    "from sklearn.linear_model import LinearRegression\n",
    "from sklearn.model_selection import GridSearchCV\n",
    "from xgboost import XGBRegressor\n",
    "from sklearn.metrics import r2_score\n",
    "\n",
    "import warnings\n",
    "warnings.simplefilter('ignore')"
   ]
  },
  {
   "cell_type": "code",
   "execution_count": 17,
   "metadata": {},
   "outputs": [
    {
     "data": {
      "text/plain": [
       "((4529, 5), (4529,))"
      ]
     },
     "execution_count": 17,
     "metadata": {},
     "output_type": "execute_result"
    }
   ],
   "source": [
    "new_X = dl.data['fuku-at-sea'].drop(['AGL','GC','GCNORM','dist'], axis=1)\n",
    "new_y = dl.data['fuku-at-sea']['GCNORM']\n",
    "new_X.shape, new_y.shape"
   ]
  },
  {
   "cell_type": "code",
   "execution_count": 18,
   "metadata": {},
   "outputs": [
    {
     "data": {
      "text/html": [
       "<div>\n",
       "<style scoped>\n",
       "    .dataframe tbody tr th:only-of-type {\n",
       "        vertical-align: middle;\n",
       "    }\n",
       "\n",
       "    .dataframe tbody tr th {\n",
       "        vertical-align: top;\n",
       "    }\n",
       "\n",
       "    .dataframe thead th {\n",
       "        text-align: right;\n",
       "    }\n",
       "</style>\n",
       "<table border=\"1\" class=\"dataframe\">\n",
       "  <thead>\n",
       "    <tr style=\"text-align: right;\">\n",
       "      <th></th>\n",
       "      <th>Time</th>\n",
       "      <th>Latitude</th>\n",
       "      <th>Longitude</th>\n",
       "      <th>ALT_HAE</th>\n",
       "      <th>LiveuSec</th>\n",
       "    </tr>\n",
       "  </thead>\n",
       "  <tbody>\n",
       "    <tr>\n",
       "      <th>0</th>\n",
       "      <td>7860</td>\n",
       "      <td>37.762307</td>\n",
       "      <td>140.959459</td>\n",
       "      <td>243.557</td>\n",
       "      <td>997353.0</td>\n",
       "    </tr>\n",
       "    <tr>\n",
       "      <th>1</th>\n",
       "      <td>7860</td>\n",
       "      <td>37.761519</td>\n",
       "      <td>140.959672</td>\n",
       "      <td>244.135</td>\n",
       "      <td>997066.0</td>\n",
       "    </tr>\n",
       "    <tr>\n",
       "      <th>2</th>\n",
       "      <td>7860</td>\n",
       "      <td>37.760735</td>\n",
       "      <td>140.959890</td>\n",
       "      <td>243.184</td>\n",
       "      <td>997057.0</td>\n",
       "    </tr>\n",
       "    <tr>\n",
       "      <th>3</th>\n",
       "      <td>7860</td>\n",
       "      <td>37.759945</td>\n",
       "      <td>140.960111</td>\n",
       "      <td>242.065</td>\n",
       "      <td>997843.0</td>\n",
       "    </tr>\n",
       "    <tr>\n",
       "      <th>4</th>\n",
       "      <td>7860</td>\n",
       "      <td>37.759161</td>\n",
       "      <td>140.960330</td>\n",
       "      <td>242.198</td>\n",
       "      <td>997653.0</td>\n",
       "    </tr>\n",
       "  </tbody>\n",
       "</table>\n",
       "</div>"
      ],
      "text/plain": [
       "   Time   Latitude   Longitude  ALT_HAE  LiveuSec\n",
       "0  7860  37.762307  140.959459  243.557  997353.0\n",
       "1  7860  37.761519  140.959672  244.135  997066.0\n",
       "2  7860  37.760735  140.959890  243.184  997057.0\n",
       "3  7860  37.759945  140.960111  242.065  997843.0\n",
       "4  7860  37.759161  140.960330  242.198  997653.0"
      ]
     },
     "execution_count": 18,
     "metadata": {},
     "output_type": "execute_result"
    }
   ],
   "source": [
    "new_X.head()"
   ]
  },
  {
   "cell_type": "code",
   "execution_count": 19,
   "metadata": {},
   "outputs": [],
   "source": [
    "def train_test_split(X, y, ts):\n",
    "    '''non-randomized train test split for time-series'''\n",
    "    \n",
    "    train_X, train_y = X[:-ts], y[:-ts]\n",
    "    test_X, test_y = X[-ts:], y[-ts:]\n",
    "\n",
    "    print(f'Train Shape: {train_X.shape} | Test Shape: {test_X.shape}')\n",
    "\n",
    "    return train_X, test_X, train_y, test_y"
   ]
  },
  {
   "cell_type": "code",
   "execution_count": 20,
   "metadata": {},
   "outputs": [],
   "source": [
    "def draw_prediction_plot(X, y, test_X, y_pred, dlim):\n",
    "    fig, ax = plt.subplots(figsize=(18,6))\n",
    "\n",
    "    ax2 = ax.twinx()\n",
    "\n",
    "    ax2.plot(X[-dlim:], y[-dlim:], color='red', label='Original')\n",
    "    ax2.plot(test_X, y_pred, color='blue', label='Prediction', ls='--')\n",
    "    ax2.fill_between(X[-dlim:], y[-dlim:], alpha=0.3, color='red')\n",
    "\n",
    "    ax.set_ylabel('Distance from the source', fontsize=20, color='blue')\n",
    "    ax.set_xlabel('Time (total seconds elapsed since the incident)', fontsize=20)\n",
    "    ax.set_title('NNSA Fukushima Radiation over Distance Plot', fontsize=20)\n",
    "    ax.set_xlim(X[-dlim:].min(), X[-dlim:].max())\n",
    "\n",
    "    ax2.set_ylabel('GCNORM', rotation=270, fontsize=20, color='red')\n",
    "    ax2.yaxis.set_label_coords(1.07,0.5);\n",
    "    ax2.legend()\n",
    "\n",
    "    fig.autofmt_xdate(rotation=45)\n",
    "    # fig.show()"
   ]
  },
  {
   "cell_type": "code",
   "execution_count": 21,
   "metadata": {},
   "outputs": [],
   "source": [
    "def regressor_score(model, param=None):\n",
    "    if param:\n",
    "        clf = GridSearchCV(model, param_grid=param).fit(train_X, train_y)\n",
    "        y_pred = clf.predict(test_X)\n",
    "        print(f'Best Parameters: {clf.best_params_}')\n",
    "    else:\n",
    "        y_pred = model.fit(train_X, train_y).predict(test_X)\n",
    "\n",
    "    print(f'R^2 Score: {r2_score(y_true=test_y, y_pred=y_pred)}')\n",
    "\n",
    "    return y_pred"
   ]
  },
  {
   "cell_type": "code",
   "execution_count": 22,
   "metadata": {},
   "outputs": [
    {
     "name": "stdout",
     "output_type": "stream",
     "text": [
      "Train Shape: (4229, 5) | Test Shape: (300, 5)\n"
     ]
    }
   ],
   "source": [
    "train_X, test_X, train_y, test_y = train_test_split(X=new_X, y=new_y, ts=300)"
   ]
  },
  {
   "cell_type": "markdown",
   "metadata": {},
   "source": [
    "#### Tree-based ensemble model"
   ]
  },
  {
   "cell_type": "code",
   "execution_count": 23,
   "metadata": {},
   "outputs": [
    {
     "name": "stdout",
     "output_type": "stream",
     "text": [
      "Best Parameters: {'max_features': 'log2', 'n_estimators': 100}\n",
      "R^2 Score: 0.6980967691585425\n"
     ]
    }
   ],
   "source": [
    "param = {\n",
    "    'max_features': ['sqrt', 'log2', None],\n",
    "    'n_estimators': [100, 200, 500]\n",
    "}\n",
    "y_pred = regressor_score(model=RandomForestRegressor(), param=param)\n",
    "# y_pred = regressor_score(model=RandomForestRegressor(), param=None)"
   ]
  },
  {
   "cell_type": "code",
   "execution_count": 24,
   "metadata": {},
   "outputs": [
    {
     "data": {
      "image/png": "[encoded data removed]",
      "text/plain": [
       "<Figure size 1296x432 with 2 Axes>"
      ]
     },
     "metadata": {
      "needs_background": "light"
     },
     "output_type": "display_data"
    }
   ],
   "source": [
    "draw_prediction_plot(new_X['Time'], new_y, test_X['Time'], y_pred, dlim=1000)"
   ]
  },
  {
   "cell_type": "markdown",
   "metadata": {},
   "source": [
    "#### Base linear regression model\n",
    "Surprisingly outperforms other \"state-of-the-art\" models in terms of R-squared metric"
   ]
  },
  {
   "cell_type": "code",
   "execution_count": 25,
   "metadata": {},
   "outputs": [
    {
     "name": "stdout",
     "output_type": "stream",
     "text": [
      "R^2 Score: 0.9051109051605595\n"
     ]
    }
   ],
   "source": [
    "y_pred = regressor_score(model=LinearRegression())"
   ]
  },
  {
   "cell_type": "code",
   "execution_count": 26,
   "metadata": {},
   "outputs": [
    {
     "data": {
      "image/png": "[encoded data removed]",
      "text/plain": [
       "<Figure size 1296x432 with 2 Axes>"
      ]
     },
     "metadata": {
      "needs_background": "light"
     },
     "output_type": "display_data"
    }
   ],
   "source": [
    "draw_prediction_plot(new_X['Time'], new_y, test_X['Time'], y_pred, dlim=1000)"
   ]
  },
  {
   "cell_type": "markdown",
   "metadata": {},
   "source": [
    "#### Neural network model\n",
    "Multilayer perceptron of varing size and complexity failed to learn this task. This may be due to NN being scale variant, thus feature scaling may be helpful here."
   ]
  },
  {
   "cell_type": "code",
   "execution_count": 27,
   "metadata": {},
   "outputs": [
    {
     "name": "stdout",
     "output_type": "stream",
     "text": [
      "Best Parameters: {'alpha': 0.01, 'hidden_layer_sizes': 500, 'learning_rate_init': 0.001}\n",
      "R^2 Score: -0.6108719611939255\n"
     ]
    }
   ],
   "source": [
    "param = {\n",
    "    'hidden_layer_sizes': [100, 200, 500],\n",
    "    'alpha': [0.01, 0.001, 0.0001],\n",
    "    'learning_rate_init': [0.01, 0.001, 0.0001]\n",
    "}\n",
    "y_pred = regressor_score(model=MLPRegressor(), param=param)\n",
    "# y_pred = regressor_score(model=MLPRegressor(), param=None)"
   ]
  },
  {
   "cell_type": "code",
   "execution_count": 28,
   "metadata": {},
   "outputs": [
    {
     "data": {
      "image/png": "[encoded data removed]",
      "text/plain": [
       "<Figure size 1296x432 with 2 Axes>"
      ]
     },
     "metadata": {
      "needs_background": "light"
     },
     "output_type": "display_data"
    }
   ],
   "source": [
    "draw_prediction_plot(new_X['Time'], new_y, test_X['Time'], y_pred, dlim=1000)"
   ]
  },
  {
   "cell_type": "markdown",
   "metadata": {},
   "source": [
    "#### Gradient boosting model\n",
    "Extreme gradient boosting regressor model performed similarly as the random forest"
   ]
  },
  {
   "cell_type": "code",
   "execution_count": 29,
   "metadata": {},
   "outputs": [
    {
     "name": "stdout",
     "output_type": "stream",
     "text": [
      "Best Parameters: {'learning_rate': 0.01, 'n_estimators': 200}\n",
      "R^2 Score: 0.7484000602983085\n"
     ]
    }
   ],
   "source": [
    "param = {\n",
    "    'n_estimators': [100, 200, 500],\n",
    "    'learning_rate': [0.01, 0.001, 0.0001]\n",
    "}\n",
    "y_pred = regressor_score(model=XGBRegressor(), param=param)\n",
    "# y_pred = regressor_score(model=XGBRegressor(), param=None)"
   ]
  },
  {
   "cell_type": "code",
   "execution_count": 30,
   "metadata": {},
   "outputs": [
    {
     "data": {
      "image/png": "[encoded data removed]",
      "text/plain": [
       "<Figure size 1296x432 with 2 Axes>"
      ]
     },
     "metadata": {
      "needs_background": "light"
     },
     "output_type": "display_data"
    }
   ],
   "source": [
    "draw_prediction_plot(new_X['Time'], new_y, test_X['Time'], y_pred, dlim=1000)"
   ]
  },
  {
   "cell_type": "markdown",
   "metadata": {},
   "source": [
    "### Predictive improvement by feature engineering\n",
    "This time I attempt to improve performance of the regressors by feature selection and/or feature engineering. Here I implement following optimization to improve performance of linear regressor, random forest, and extreme gradient boosting regressor.\n",
    "\n",
    "1. Exclusively select features for linear regressor and inclusively select features for ensemble models\n",
    "2. Create new feature `dist`, the euclidean distance from the power plant derived based on `Latitude` and `Longitude`\n",
    "3. Rescale whole data set before train-test-split or rescale train_X then test_X after the split"
   ]
  },
  {
   "cell_type": "code",
   "execution_count": 31,
   "metadata": {},
   "outputs": [],
   "source": [
    "from sklearn.preprocessing import normalize, StandardScaler, Normalizer"
   ]
  },
  {
   "cell_type": "markdown",
   "metadata": {},
   "source": [
    "#### Linear Regressor"
   ]
  },
  {
   "cell_type": "code",
   "execution_count": 32,
   "metadata": {},
   "outputs": [
    {
     "data": {
      "text/plain": [
       "((4529, 2), (4529,))"
      ]
     },
     "execution_count": 32,
     "metadata": {},
     "output_type": "execute_result"
    }
   ],
   "source": [
    "new_X = dl.data['fuku-at-sea'].drop(['GC','GCNORM'], axis=1)\n",
    "new_X = new_X.drop(['Latitude','Longitude','ALT_HAE', 'AGL','dist'], axis=1)\n",
    "new_y = dl.data['fuku-at-sea']['GCNORM']\n",
    "\n",
    "new_X.shape, new_y.shape"
   ]
  },
  {
   "cell_type": "code",
   "execution_count": 33,
   "metadata": {},
   "outputs": [
    {
     "data": {
      "text/html": [
       "<div>\n",
       "<style scoped>\n",
       "    .dataframe tbody tr th:only-of-type {\n",
       "        vertical-align: middle;\n",
       "    }\n",
       "\n",
       "    .dataframe tbody tr th {\n",
       "        vertical-align: top;\n",
       "    }\n",
       "\n",
       "    .dataframe thead th {\n",
       "        text-align: right;\n",
       "    }\n",
       "</style>\n",
       "<table border=\"1\" class=\"dataframe\">\n",
       "  <thead>\n",
       "    <tr style=\"text-align: right;\">\n",
       "      <th></th>\n",
       "      <th>Time</th>\n",
       "      <th>LiveuSec</th>\n",
       "    </tr>\n",
       "  </thead>\n",
       "  <tbody>\n",
       "    <tr>\n",
       "      <th>0</th>\n",
       "      <td>7860</td>\n",
       "      <td>997353.0</td>\n",
       "    </tr>\n",
       "    <tr>\n",
       "      <th>1</th>\n",
       "      <td>7860</td>\n",
       "      <td>997066.0</td>\n",
       "    </tr>\n",
       "    <tr>\n",
       "      <th>2</th>\n",
       "      <td>7860</td>\n",
       "      <td>997057.0</td>\n",
       "    </tr>\n",
       "    <tr>\n",
       "      <th>3</th>\n",
       "      <td>7860</td>\n",
       "      <td>997843.0</td>\n",
       "    </tr>\n",
       "    <tr>\n",
       "      <th>4</th>\n",
       "      <td>7860</td>\n",
       "      <td>997653.0</td>\n",
       "    </tr>\n",
       "  </tbody>\n",
       "</table>\n",
       "</div>"
      ],
      "text/plain": [
       "   Time  LiveuSec\n",
       "0  7860  997353.0\n",
       "1  7860  997066.0\n",
       "2  7860  997057.0\n",
       "3  7860  997843.0\n",
       "4  7860  997653.0"
      ]
     },
     "execution_count": 33,
     "metadata": {},
     "output_type": "execute_result"
    }
   ],
   "source": [
    "new_X.head()"
   ]
  },
  {
   "cell_type": "code",
   "execution_count": 34,
   "metadata": {},
   "outputs": [
    {
     "name": "stdout",
     "output_type": "stream",
     "text": [
      "Train Shape: (4229, 2) | Test Shape: (300, 2)\n"
     ]
    }
   ],
   "source": [
    "train_X, test_X, train_y, test_y = train_test_split(X=new_X, y=new_y, ts=300)"
   ]
  },
  {
   "cell_type": "code",
   "execution_count": 35,
   "metadata": {},
   "outputs": [
    {
     "name": "stdout",
     "output_type": "stream",
     "text": [
      "R^2 Score: 0.9062095700203506\n"
     ]
    }
   ],
   "source": [
    "y_pred = regressor_score(model=LinearRegression())"
   ]
  },
  {
   "cell_type": "markdown",
   "metadata": {},
   "source": [
    "As indicative from the correlation matrix, the highest correlation was observed between `LiveuSec` and `GCNORM`. Even without other features, simple linear regression model can acheive ~0.90 from R-square metric. On the other hand, random forest is not able to achieve such high R-square score just with two features"
   ]
  },
  {
   "cell_type": "markdown",
   "metadata": {},
   "source": [
    "#### Random Forest\n",
    "The base model only achieves R^2 ~0.80 using just 2 features used for linear regressor"
   ]
  },
  {
   "cell_type": "code",
   "execution_count": 36,
   "metadata": {},
   "outputs": [
    {
     "name": "stdout",
     "output_type": "stream",
     "text": [
      "R^2 Score: 0.794923214280422\n"
     ]
    }
   ],
   "source": [
    "y_pred = regressor_score(model=RandomForestRegressor())"
   ]
  },
  {
   "cell_type": "markdown",
   "metadata": {},
   "source": [
    "As a form of feature engineering, I added back all the other features that were not useful at all for the linear regressor"
   ]
  },
  {
   "cell_type": "code",
   "execution_count": 37,
   "metadata": {},
   "outputs": [
    {
     "name": "stdout",
     "output_type": "stream",
     "text": [
      "Train Shape: (4229, 6) | Test Shape: (300, 6)\n",
      "R^2 Score: 0.8723103845234996\n"
     ]
    }
   ],
   "source": [
    "new_X = dl.data['fuku-at-sea'].drop(['GC','GCNORM'], axis=1)\n",
    "new_X = new_X.drop(['dist'], axis=1)\n",
    "new_y = dl.data['fuku-at-sea']['GCNORM']\n",
    "\n",
    "train_X, test_X, train_y, test_y = train_test_split(X=new_X, y=new_y, ts=300)\n",
    "\n",
    "y_pred = regressor_score(model=RandomForestRegressor())"
   ]
  },
  {
   "cell_type": "markdown",
   "metadata": {},
   "source": [
    "Then I additionally added `dist` as a new feature in addition to the other features that were added"
   ]
  },
  {
   "cell_type": "code",
   "execution_count": 38,
   "metadata": {},
   "outputs": [
    {
     "name": "stdout",
     "output_type": "stream",
     "text": [
      "Train Shape: (4229, 7) | Test Shape: (300, 7)\n",
      "R^2 Score: 0.8733297063739722\n"
     ]
    }
   ],
   "source": [
    "new_X = dl.data['fuku-at-sea'].drop(['GC','GCNORM'], axis=1)\n",
    "# new_X = new_X.drop(['Latitude','Longitude','ALT_HAE', 'AGL','dist'], axis=1)\n",
    "new_y = dl.data['fuku-at-sea']['GCNORM']\n",
    "\n",
    "train_X, test_X, train_y, test_y = train_test_split(X=new_X, y=new_y, ts=300)\n",
    "\n",
    "y_pred = regressor_score(RandomForestRegressor())"
   ]
  },
  {
   "cell_type": "markdown",
   "metadata": {},
   "source": [
    "Finally, I rescaled the range of feature values by normalizing each feature separately"
   ]
  },
  {
   "cell_type": "code",
   "execution_count": 39,
   "metadata": {},
   "outputs": [
    {
     "name": "stdout",
     "output_type": "stream",
     "text": [
      "Train Shape: (4229, 7) | Test Shape: (300, 7)\n",
      "R^2 Score: 0.8846193235847184\n"
     ]
    }
   ],
   "source": [
    "for col in new_X.iloc[:, 1:]:\n",
    "    new_X[col] = normalize([new_X[col]])[0]\n",
    "\n",
    "train_X, test_X, train_y, test_y = train_test_split(X=new_X, y=new_y, ts=300)\n",
    "\n",
    "y_pred = regressor_score(model=RandomForestRegressor())"
   ]
  },
  {
   "cell_type": "markdown",
   "metadata": {},
   "source": [
    "Interestingly notice that rescaling training set rather than the original data actually lowers R-square score"
   ]
  },
  {
   "cell_type": "code",
   "execution_count": 40,
   "metadata": {},
   "outputs": [
    {
     "name": "stdout",
     "output_type": "stream",
     "text": [
      "Train Shape: (4229, 7) | Test Shape: (300, 7)\n",
      "R^2 Score: 0.878297766776952\n"
     ]
    }
   ],
   "source": [
    "new_X = dl.data['fuku-at-sea'].drop(['GC','GCNORM'], axis=1)\n",
    "\n",
    "train_X, test_X, train_y, test_y = train_test_split(X=new_X, y=new_y, ts=300)\n",
    "\n",
    "for col in train_X.iloc[:, 1:]:\n",
    "    scaler = StandardScaler()\n",
    "    train_X[col] = scaler.fit_transform(train_X[[col]])\n",
    "    test_X[col] = scaler.transform(test_X[[col]])\n",
    "\n",
    "y_pred = regressor_score(model=RandomForestRegressor())"
   ]
  },
  {
   "cell_type": "markdown",
   "metadata": {},
   "source": [
    "Conclusively, each step of the feature engineering improved R-square score more and more"
   ]
  },
  {
   "cell_type": "markdown",
   "metadata": {},
   "source": [
    "#### Extreme Gradient Boosting Model\n",
    "\n",
    "Now, I am training manually optimized XGBRegressor to maximize the performance, which outperforms both linear regressor and random forest"
   ]
  },
  {
   "cell_type": "code",
   "execution_count": 41,
   "metadata": {},
   "outputs": [
    {
     "name": "stdout",
     "output_type": "stream",
     "text": [
      "Train Shape: (4229, 7) | Test Shape: (300, 7)\n",
      "R^2 Score: 0.9154853528771884\n"
     ]
    }
   ],
   "source": [
    "new_X = dl.data['fuku-at-sea'].drop(['GC','GCNORM'], axis=1)\n",
    "\n",
    "train_X, test_X, train_y, test_y = train_test_split(X=new_X, y=new_y, ts=300)\n",
    "\n",
    "y_pred = regressor_score(model=XGBRegressor(n_estimators=12, max_depth=2))"
   ]
  },
  {
   "cell_type": "markdown",
   "metadata": {},
   "source": [
    "Here, XGBRegressor shows scale-invariant behavior which seemed to affect random forest in the above"
   ]
  },
  {
   "cell_type": "code",
   "execution_count": 42,
   "metadata": {},
   "outputs": [
    {
     "name": "stdout",
     "output_type": "stream",
     "text": [
      "Train Shape: (4229, 7) | Test Shape: (300, 7)\n",
      "R^2 Score: 0.9154853528771884\n"
     ]
    }
   ],
   "source": [
    "for col in new_X.iloc[:, 1:]:\n",
    "    new_X[col] = normalize([new_X[col]])[0]\n",
    "\n",
    "train_X, test_X, train_y, test_y = train_test_split(X=new_X, y=new_y, ts=300)\n",
    "\n",
    "y_pred = regressor_score(model=XGBRegressor(n_estimators=12, max_depth=2))"
   ]
  },
  {
   "cell_type": "code",
   "execution_count": 43,
   "metadata": {},
   "outputs": [
    {
     "name": "stdout",
     "output_type": "stream",
     "text": [
      "Train Shape: (4229, 7) | Test Shape: (300, 7)\n",
      "R^2 Score: 0.9154853528771884\n"
     ]
    }
   ],
   "source": [
    "new_X = dl.data['fuku-at-sea'].drop(['GC','GCNORM'], axis=1)\n",
    "\n",
    "train_X, test_X, train_y, test_y = train_test_split(X=new_X, y=new_y, ts=300)\n",
    "\n",
    "for col in train_X.iloc[:, 1:]:\n",
    "    scaler = StandardScaler()\n",
    "    train_X[col] = scaler.fit_transform(train_X[[col]])\n",
    "    test_X[col] = scaler.transform(test_X[[col]])\n",
    "\n",
    "y_pred = regressor_score(model=XGBRegressor(n_estimators=12, max_depth=2))"
   ]
  },
  {
   "cell_type": "markdown",
   "metadata": {},
   "source": [
    "### End of the notebook"
   ]
  }
 ],
 "metadata": {
  "kernelspec": {
   "display_name": "Python 3.8.13 ('main')",
   "language": "python",
   "name": "python3"
  },
  "language_info": {
   "codemirror_mode": {
    "name": "ipython",
    "version": 3
   },
   "file_extension": ".py",
   "mimetype": "text/x-python",
   "name": "python",
   "nbconvert_exporter": "python",
   "pygments_lexer": "ipython3",
   "version": "3.8.13"
  },
  "orig_nbformat": 4,
  "vscode": {
   "interpreter": {
    "hash": "5b3e9ff110fca189b640152dbca1582818d88c9c2a9ef25df7a407523fb4d550"
   }
  }
 },
 "nbformat": 4,
 "nbformat_minor": 2
}
